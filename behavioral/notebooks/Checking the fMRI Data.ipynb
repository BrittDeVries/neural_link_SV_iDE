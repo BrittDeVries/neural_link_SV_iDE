{
 "cells": [
  {
   "cell_type": "code",
   "execution_count": 1,
   "metadata": {},
   "outputs": [
    {
     "name": "stdout",
     "output_type": "stream",
     "text": [
      "/home/olivia/Code/neural_link_SV_iDE\n"
     ]
    }
   ],
   "source": [
    "%matplotlib inline\n",
    "\n",
    "# Assuming we are in the notebooks directory, we need to move one up:\n",
    "%cd ../.."
   ]
  },
  {
   "cell_type": "code",
   "execution_count": 3,
   "metadata": {},
   "outputs": [
    {
     "ename": "FileNotFoundError",
     "evalue": "[Errno 2] No such file or directory: '/home/olivia/Data/NARPS/confounds/'",
     "output_type": "error",
     "traceback": [
      "\u001b[0;31m---------------------------------------------------------------------------\u001b[0m",
      "\u001b[0;31mFileNotFoundError\u001b[0m                         Traceback (most recent call last)",
      "\u001b[0;32m<ipython-input-3-0bfcb90c3000>\u001b[0m in \u001b[0;36m<module>\u001b[0;34m\u001b[0m\n\u001b[1;32m     16\u001b[0m \u001b[0;31m# Replace with directory you have downloaded NARPS data from\u001b[0m\u001b[0;34m\u001b[0m\u001b[0;34m\u001b[0m\u001b[0;34m\u001b[0m\u001b[0m\n\u001b[1;32m     17\u001b[0m \u001b[0mpath\u001b[0m \u001b[0;34m=\u001b[0m \u001b[0;34m'/home/olivia/Data/NARPS/confounds/'\u001b[0m\u001b[0;34m\u001b[0m\u001b[0;34m\u001b[0m\u001b[0m\n\u001b[0;32m---> 18\u001b[0;31m \u001b[0mfiles\u001b[0m \u001b[0;34m=\u001b[0m \u001b[0mos\u001b[0m\u001b[0;34m.\u001b[0m\u001b[0mlistdir\u001b[0m\u001b[0;34m(\u001b[0m\u001b[0mpath\u001b[0m\u001b[0;34m)\u001b[0m\u001b[0;34m\u001b[0m\u001b[0;34m\u001b[0m\u001b[0m\n\u001b[0m\u001b[1;32m     19\u001b[0m \u001b[0mfiles\u001b[0m\u001b[0;34m.\u001b[0m\u001b[0msort\u001b[0m\u001b[0;34m(\u001b[0m\u001b[0;34m)\u001b[0m\u001b[0;34m\u001b[0m\u001b[0;34m\u001b[0m\u001b[0m\n",
      "\u001b[0;31mFileNotFoundError\u001b[0m: [Errno 2] No such file or directory: '/home/olivia/Data/NARPS/confounds/'"
     ]
    }
   ],
   "source": [
    "import numpy as np\n",
    "import pandas as pd\n",
    "import os\n",
    "import seaborn as sns\n",
    "\n",
    "import matplotlib.pyplot as plt\n",
    "import statsmodels.api as sm\n",
    "\n",
    "from IPython import display\n",
    "\n",
    "\n",
    "\n",
    "sns.set(font_scale=1.8)\n",
    "sns.set_style('ticks')\n",
    "\n",
    "# Replace with directory you have downloaded NARPS data from:\n",
    "path = '/home/olivia/Data/NARPS/confounds/' \n",
    "files = os.listdir(path)\n",
    "files.sort()"
   ]
  },
  {
   "cell_type": "code",
   "execution_count": null,
   "metadata": {
    "scrolled": false
   },
   "outputs": [],
   "source": [
    "for file in files:\n",
    "    df = pd.read_csv(path + file, sep='\\t')\n",
    "    sns.set(font_scale=1.2)\n",
    "\n",
    "    f, ax = plt.subplots(1, 1, figsize=(7, 7), sharex=True)\n",
    "    sns.despine(right=True)\n",
    "    ax.set_title(file)\n",
    "\n",
    "    sns.distplot(df['FramewiseDisplacement'].dropna(), ax=ax, norm_hist = False , kde=False)\n",
    "\n",
    "    display.display(f)\n",
    "    plt.close()"
   ]
  },
  {
   "cell_type": "code",
   "execution_count": null,
   "metadata": {},
   "outputs": [],
   "source": [
    "df"
   ]
  },
  {
   "cell_type": "code",
   "execution_count": null,
   "metadata": {},
   "outputs": [],
   "source": [
    "df[['FramewiseDisplacement', 'X', 'Y', 'Z', 'RotX', 'RotY', 'RotZ']].describe()"
   ]
  },
  {
   "cell_type": "code",
   "execution_count": null,
   "metadata": {},
   "outputs": [],
   "source": [
    "sums = []\n",
    "means = []\n",
    "for file in files:\n",
    "    if 'sub-030' in file:\n",
    "        continue\n",
    "    df = pd.read_csv(path + file, sep='\\t')\n",
    "    means.append(df['FramewiseDisplacement'].mean())\n",
    "plt.plot(range(len(means)), means, 'ro')\n",
    "plt.show()"
   ]
  },
  {
   "cell_type": "code",
   "execution_count": null,
   "metadata": {},
   "outputs": [],
   "source": [
    "try: \n",
    "    del all_df\n",
    "except:\n",
    "    pass\n",
    "\n",
    "sums = []\n",
    "means = []\n",
    "for file in files:\n",
    "#     print(file)\n",
    "    df = pd.read_csv(path + file, sep='\\t')\n",
    "    means.append(df['FramewiseDisplacement'].mean())\n",
    "    df['ID'] = str(int(file.split('-')[1].split('_')[0]))\n",
    "    try:\n",
    "        all_df = all_df.append(df)\n",
    "    except NameError:\n",
    "        allstd_df = df\n",
    "plt.plot(range(len(means)), means, 'ro')\n",
    "plt.show()"
   ]
  },
  {
   "cell_type": "code",
   "execution_count": null,
   "metadata": {},
   "outputs": [],
   "source": [
    "mean = all_df['FramewiseDisplacement'].mean()\n",
    "std = all_df['FramewiseDisplacement'].std()\n",
    "\n",
    "for index, row in all_df.iterrows():\n",
    "    if (row['FramewiseDisplacement'] > mean + std * 4):\n",
    "        print(row['FramewiseDisplacement'], row['ID'])"
   ]
  },
  {
   "cell_type": "code",
   "execution_count": null,
   "metadata": {},
   "outputs": [],
   "source": [
    "means_df = all_df.groupby('ID', as_index=False).mean()\n",
    "\n",
    "plt.plot(range(len(means_df['FramewiseDisplacement'])), means_df['FramewiseDisplacement'], 'ro')\n",
    "plt.show()"
   ]
  },
  {
   "cell_type": "code",
   "execution_count": null,
   "metadata": {},
   "outputs": [],
   "source": [
    "means_df"
   ]
  },
  {
   "cell_type": "code",
   "execution_count": null,
   "metadata": {},
   "outputs": [],
   "source": [
    "mean = means_df['FramewiseDisplacement'].mean()\n",
    "std = means_df['FramewiseDisplacement'].std()\n",
    "print(mean, std)"
   ]
  },
  {
   "cell_type": "code",
   "execution_count": null,
   "metadata": {},
   "outputs": [],
   "source": [
    "for index, row in means_df.iterrows():\n",
    "    if (row['FramewiseDisplacement'] >= mean + std * 2.3):\n",
    "        print(row['FramewiseDisplacement'], row['ID'])"
   ]
  },
  {
   "cell_type": "code",
   "execution_count": null,
   "metadata": {},
   "outputs": [],
   "source": [
    "for index, row in means_df.iterrows():\n",
    "    if (row['FramewiseDisplacement'] >= 0.2):#mean + std * 2):\n",
    "        print(row['FramewiseDisplacement'], row['ID'])"
   ]
  }
 ],
 "metadata": {
  "kernelspec": {
   "display_name": "Python 3",
   "language": "python",
   "name": "python3"
  },
  "language_info": {
   "codemirror_mode": {
    "name": "ipython",
    "version": 3
   },
   "file_extension": ".py",
   "mimetype": "text/x-python",
   "name": "python",
   "nbconvert_exporter": "python",
   "pygments_lexer": "ipython3",
   "version": "3.7.3"
  }
 },
 "nbformat": 4,
 "nbformat_minor": 2
}
