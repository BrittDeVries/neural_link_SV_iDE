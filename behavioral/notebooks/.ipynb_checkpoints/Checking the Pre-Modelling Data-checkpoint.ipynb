{
 "cells": [
  {
   "cell_type": "code",
   "execution_count": 1,
   "metadata": {},
   "outputs": [
    {
     "name": "stdout",
     "output_type": "stream",
     "text": [
      "/home/olivia/Code/neural_link_SV_iDE\n"
     ]
    }
   ],
   "source": [
    "%matplotlib inline\n",
    "\n",
    "# Assuming we are in the notebooks directory, we need to move one up:\n",
    "%cd ../.."
   ]
  },
  {
   "cell_type": "code",
   "execution_count": 2,
   "metadata": {},
   "outputs": [
    {
     "ename": "FileNotFoundError",
     "evalue": "[Errno 2] No such file or directory: '/home/olivia/Data/NARPS/event_tsvs/'",
     "output_type": "error",
     "traceback": [
      "\u001b[0;31m---------------------------------------------------------------------------\u001b[0m",
      "\u001b[0;31mFileNotFoundError\u001b[0m                         Traceback (most recent call last)",
      "\u001b[0;32m<ipython-input-2-04b13058a62d>\u001b[0m in \u001b[0;36m<module>\u001b[0;34m\u001b[0m\n\u001b[1;32m     13\u001b[0m \u001b[0msns\u001b[0m\u001b[0;34m.\u001b[0m\u001b[0mset\u001b[0m\u001b[0;34m(\u001b[0m\u001b[0mstyle\u001b[0m\u001b[0;34m=\u001b[0m\u001b[0;34m\"ticks\"\u001b[0m\u001b[0;34m,\u001b[0m \u001b[0mpalette\u001b[0m\u001b[0;34m=\u001b[0m\u001b[0;34m\"muted\"\u001b[0m\u001b[0;34m,\u001b[0m \u001b[0mcolor_codes\u001b[0m\u001b[0;34m=\u001b[0m\u001b[0;32mTrue\u001b[0m\u001b[0;34m,\u001b[0m \u001b[0mfont_scale\u001b[0m\u001b[0;34m=\u001b[0m\u001b[0;36m1.8\u001b[0m\u001b[0;34m)\u001b[0m\u001b[0;34m\u001b[0m\u001b[0;34m\u001b[0m\u001b[0m\n\u001b[1;32m     14\u001b[0m \u001b[0;34m\u001b[0m\u001b[0m\n\u001b[0;32m---> 15\u001b[0;31m \u001b[0mfiles\u001b[0m \u001b[0;34m=\u001b[0m \u001b[0;34m[\u001b[0m\u001b[0mfile\u001b[0m \u001b[0;32mfor\u001b[0m \u001b[0mfile\u001b[0m \u001b[0;32min\u001b[0m \u001b[0mos\u001b[0m\u001b[0;34m.\u001b[0m\u001b[0mlistdir\u001b[0m\u001b[0;34m(\u001b[0m\u001b[0mDATA_DIR\u001b[0m\u001b[0;34m)\u001b[0m \u001b[0;32mif\u001b[0m \u001b[0;34m'sub'\u001b[0m \u001b[0;32min\u001b[0m \u001b[0mfile\u001b[0m\u001b[0;34m]\u001b[0m\u001b[0;34m\u001b[0m\u001b[0;34m\u001b[0m\u001b[0m\n\u001b[0m\u001b[1;32m     16\u001b[0m \u001b[0;34m\u001b[0m\u001b[0m\n\u001b[1;32m     17\u001b[0m \u001b[0mmeta_df\u001b[0m \u001b[0;34m=\u001b[0m \u001b[0mpd\u001b[0m\u001b[0;34m.\u001b[0m\u001b[0mDataFrame\u001b[0m\u001b[0;34m(\u001b[0m\u001b[0;34m{\u001b[0m\u001b[0;34m'Filename'\u001b[0m\u001b[0;34m:\u001b[0m \u001b[0mfiles\u001b[0m\u001b[0;34m}\u001b[0m\u001b[0;34m)\u001b[0m\u001b[0;34m\u001b[0m\u001b[0;34m\u001b[0m\u001b[0m\n",
      "\u001b[0;31mFileNotFoundError\u001b[0m: [Errno 2] No such file or directory: '/home/olivia/Data/NARPS/event_tsvs/'"
     ]
    }
   ],
   "source": [
    "import numpy as np\n",
    "import pandas as pd\n",
    "import os\n",
    "import seaborn as sns\n",
    "\n",
    "import matplotlib.pyplot as plt\n",
    "\n",
    "\n",
    "# Replace with directory you have downloaded NARPS data from:\n",
    "DATA_DIR = '/home/olivia/Data/NARPS/event_tsvs/'\n",
    "\n",
    "\n",
    "sns.set(style=\"ticks\", palette=\"muted\", color_codes=True, font_scale=1.8)\n",
    "\n",
    "files = [file for file in os.listdir(DATA_DIR) if 'sub' in file]\n",
    "\n",
    "meta_df = pd.DataFrame({'Filename': files})\n",
    "meta_df.sort_values(by='Filename', inplace=True)\n",
    "meta_df.reset_index(inplace=True, drop=True)\n",
    "meta_df['Participant'] = 0\n",
    "meta_df['Run'] = 0\n",
    "meta_df['Trials Designated NoResp'] = 0\n",
    "meta_df['Trials with RT == 0'] = 0\n",
    "meta_df['Behaviour in File'] = True\n",
    "\n",
    "def squash_response(row):\n",
    "    if 'accept' in row:\n",
    "        return 1\n",
    "    elif 'reject' in row:\n",
    "        return 0\n",
    "    else:\n",
    "        return row\n",
    "\n",
    "def check_RT_response_data(row):\n",
    "    try:\n",
    "        if row['participant_response'] == 'NoResp':\n",
    "            return False\n",
    "    except KeyError:\n",
    "        return False\n",
    "    if row['RT'] == 0:\n",
    "        return False\n",
    "    else:\n",
    "        return True"
   ]
  },
  {
   "cell_type": "code",
   "execution_count": null,
   "metadata": {},
   "outputs": [],
   "source": [
    "# These two lines are just here because we're in a notebook, so delete in .py script.\n",
    "ps_df = 0\n",
    "del ps_df\n",
    "\n",
    "prev_p = 0\n",
    "run_check = 0\n",
    "\n",
    "# For each filename...\n",
    "for index, row in meta_df.iterrows():\n",
    "    file = row['Filename']\n",
    "        \n",
    "    # check the file conforms to what we think it should\n",
    "    # sub-001_task-MGT_run-01_events.tsv\n",
    "    # there are 4 runs per \"sub\" and the NARPS site says:\n",
    "    # \"119 healthy participants completed the experiment (n=60 from the equal indifference group and n=59 from the equal range group). Nine participants were excluded prior to fMRI analysis based on pre-registered exclusion criteria: Five did not show a significant effect of both gains and loses on their choices (Bayesian logistic regression, p < 0.05; reflecting a lack of understanding of the task) and four missed over 10% of trials (in one or more runs). Data of two additional participants is currently under QA. Thus, at least 108 participants will be included in the final dataset sent to the analysis teams (n=54 from the equal indifference group and n=54 from the equal range group).\"\n",
    "    \n",
    "    # Check that the filenames have a certain structure:\n",
    "    file_list = file.split('_')\n",
    "    assert file_list[0].split('-')[0] == 'sub'\n",
    "    p = int(file_list[0].split('-')[1])\n",
    "    assert p > 0\n",
    "    assert p <= 128\n",
    "    \n",
    "    assert file_list[2].split('-')[0] == 'run'\n",
    "    run = int(file_list[2].split('-')[1])\n",
    "    assert run > 0\n",
    "    assert run <= 4\n",
    "    \n",
    "    # check if all participants have all 4 runs, and print who doesn't\n",
    "    if prev_p != p:\n",
    "        if run_check and run_check != 4:\n",
    "            print(prev_p, run_check)\n",
    "        run_check = 0\n",
    "    prev_p = p\n",
    "    run_check+=1\n",
    "\n",
    "    # Open the file:\n",
    "    p_run_df = pd.read_csv(DATA_DIR + file, delimiter='\\t')\n",
    "\n",
    "    # Create required columns for participant ID, run, and trail number:\n",
    "    p_run_df['ID'] = p  # just a number \n",
    "    p_run_df['participant_id'] = file_list[0]  # the IDs the original data used\n",
    "    p_run_df['run'] = run\n",
    "    \n",
    "    p_run_df.reset_index(inplace=True)\n",
    "    p_run_df.rename(index=str, columns={\"index\": \"trial\"}, inplace=True)\n",
    "    p_run_df['trial'] += 1\n",
    "    \n",
    "    # Risk: sqrt(gain*gain*prob_gain*(1 - prob_gain) + loss*loss*prob_loss*(1 - prob_loss))\n",
    "    # based on Canessa et al 2013 https://doi.org/10.1523/JNEUROSCI.0497-13.2013\n",
    "    p_run_df['risk'] =  np.sqrt((p_run_df['gain']**2 + p_run_df['loss']**2)) * 0.5\n",
    "        \n",
    "    p_run_df['use'] = p_run_df.apply(check_RT_response_data, axis=1)\n",
    "\n",
    "    meta_df.loc[index, 'Participant'] = p\n",
    "    meta_df.loc[index, 'Run'] = run\n",
    "\n",
    "\n",
    "    # Find the files with RT set to 0 and note that in meta_df:\n",
    "    if (p_run_df['RT'] == 0).any():\n",
    "        meta_df.loc[index, 'Trials with RT == 0'] = (p_run_df['RT'] == 0).value_counts()[True]\n",
    "        if 'participant_response' in p_run_df.columns:\n",
    "            meta_df.loc[index, 'Trials Designated NoResp'] = (p_run_df['participant_response'] == 'NoResp').value_counts()[True]\n",
    "        else:\n",
    "            meta_df.loc[index, 'Behaviour in File'] = False    \n",
    "    \n",
    "    # Create accept column for participant:        \n",
    "    try:\n",
    "        p_run_df['accept'] = p_run_df['participant_response'].apply(squash_response)\n",
    "    except KeyError:\n",
    "        p_run_df['accept'] = 'NoResp'\n",
    "\n",
    "    # Create big dataframe for all participants:\n",
    "    try:\n",
    "        ps_df = pd.concat([ps_df, p_run_df], sort=False)\n",
    "    except NameError:\n",
    "        ps_df = p_run_df\n",
    "    \n",
    "    ps_df\n",
    "\n",
    "participants_df = pd.read_csv(DATA_DIR + 'participants.tsv', delimiter='\\t')\n",
    "ps_df = ps_df.set_index('participant_id').join(participants_df.set_index('participant_id'))"
   ]
  },
  {
   "cell_type": "code",
   "execution_count": null,
   "metadata": {},
   "outputs": [],
   "source": [
    "meta_df.head(10)"
   ]
  },
  {
   "cell_type": "code",
   "execution_count": null,
   "metadata": {},
   "outputs": [],
   "source": [
    "meta_df[meta_df['Participant'] == 48]"
   ]
  },
  {
   "cell_type": "code",
   "execution_count": null,
   "metadata": {},
   "outputs": [],
   "source": [
    "meta_df[meta_df['Behaviour in File'] == False]"
   ]
  },
  {
   "cell_type": "code",
   "execution_count": null,
   "metadata": {
    "scrolled": true
   },
   "outputs": [],
   "source": [
    "ps_df[ps_df['ID'] == 48]"
   ]
  },
  {
   "cell_type": "code",
   "execution_count": null,
   "metadata": {},
   "outputs": [],
   "source": [
    "len(ps_df['ID'].unique())"
   ]
  },
  {
   "cell_type": "code",
   "execution_count": null,
   "metadata": {},
   "outputs": [],
   "source": [
    "ps_df.describe()"
   ]
  },
  {
   "cell_type": "code",
   "execution_count": null,
   "metadata": {},
   "outputs": [],
   "source": [
    "# remove the trials where something went wrong, RT == 0 or no data\n",
    "clean_ps_df = ps_df[ps_df['use']]"
   ]
  },
  {
   "cell_type": "code",
   "execution_count": null,
   "metadata": {},
   "outputs": [],
   "source": [
    "clean_ps_df.describe()"
   ]
  },
  {
   "cell_type": "code",
   "execution_count": null,
   "metadata": {},
   "outputs": [],
   "source": [
    "clean_ps_df"
   ]
  },
  {
   "cell_type": "code",
   "execution_count": null,
   "metadata": {},
   "outputs": [],
   "source": [
    "clean_ps_df.groupby('ID')[['gain', 'loss']].describe()\n",
    "# use this to assign to each participant what condition they are in"
   ]
  },
  {
   "cell_type": "code",
   "execution_count": null,
   "metadata": {},
   "outputs": [],
   "source": [
    "equalIndif_df = clean_ps_df[clean_ps_df['group'] == 'equalIndifference']\n",
    "equalRange_df = clean_ps_df[clean_ps_df['group'] == 'equalRange']"
   ]
  },
  {
   "cell_type": "code",
   "execution_count": null,
   "metadata": {},
   "outputs": [],
   "source": [
    "\n",
    "# sns.set()\n",
    "fig, axs = plt.subplots(1, 2, sharey=True, figsize=(16,4))#, tight_layout=True)\n",
    "variable = 'gain'\n",
    "counts = np.bincount(equalIndif_df[variable])\n",
    "# print(counts)\n",
    "\n",
    "\n",
    "# [print(i) for i in zip(range(len(counts)), counts)]\n",
    "ticks = []\n",
    "axs[0].bar(range(len(counts)), counts, width=1, align='center')\n",
    "axs[0].xaxis.set_minor_locator(plt.MultipleLocator(1))\n",
    "axs[0].xaxis.set_major_locator(plt.MultipleLocator(2))\n",
    "# axs[0].tick_params(axis='x', which='major', labelsize=14)\n",
    "axs[0].set_xlim([9,41])\n",
    "axs[0].set_title('Equal Indifference')\n",
    "\n",
    "counts = np.bincount(equalRange_df[variable])\n",
    "# print(counts)\n",
    "axs[1].bar(range(len(counts)), counts, width=1, align='center')\n",
    "axs[1].xaxis.set_minor_locator(plt.MultipleLocator(1))\n",
    "axs[1].xaxis.set_major_locator(plt.MultipleLocator(2))\n",
    "axs[1].set_xlim([4.2,20.8])\n",
    "axs[1].set_title('Equal Range')\n",
    "title = fig.suptitle(variable.capitalize())\n",
    "\n",
    "# shift subplots down:\n",
    "title.set_y(0.95)\n",
    "fig.subplots_adjust(top=0.75)\n",
    "sns.despine(right=True)\n",
    "\n",
    "# plt.show()"
   ]
  },
  {
   "cell_type": "code",
   "execution_count": null,
   "metadata": {},
   "outputs": [],
   "source": [
    "fig, axs = plt.subplots(1, 2, sharey=True, figsize=(16,4))#, tight_layout=True)\n",
    "variable = 'loss'\n",
    "counts = np.bincount(equalIndif_df[variable])\n",
    "# print(counts)\n",
    "\n",
    "\n",
    "# [print(i) for i in zip(range(len(counts)), counts)]\n",
    "ticks = []\n",
    "axs[0].bar(range(len(counts)), counts, width=1, align='center')\n",
    "axs[0].xaxis.set_minor_locator(plt.MultipleLocator(1))\n",
    "axs[0].xaxis.set_major_locator(plt.MultipleLocator(2))\n",
    "# axs[0].tick_params(axis='x', which='major', labelsize=14)\n",
    "axs[0].set_xlim([4.2,20.8])\n",
    "axs[0].set_title('Equal Indifference')\n",
    "\n",
    "counts = np.bincount(equalRange_df[variable])\n",
    "# print(counts)\n",
    "axs[1].bar(range(len(counts)), counts, width=1, align='center')\n",
    "axs[1].xaxis.set_minor_locator(plt.MultipleLocator(1))\n",
    "axs[1].xaxis.set_major_locator(plt.MultipleLocator(2))\n",
    "axs[1].set_xlim([4.2,20.8])\n",
    "axs[1].set_title('Equal Range')\n",
    "title = fig.suptitle(variable.capitalize())\n",
    "\n",
    "# shift subplots down:\n",
    "title.set_y(0.95)\n",
    "fig.subplots_adjust(top=0.75)\n",
    "sns.despine(right=True)\n",
    "\n",
    "plt.show()"
   ]
  },
  {
   "cell_type": "code",
   "execution_count": null,
   "metadata": {},
   "outputs": [],
   "source": [
    "sns.set(font_scale=1.2)\n",
    "\n",
    "f, axes = plt.subplots(2, 1, figsize=(7, 7), sharex=True)\n",
    "sns.despine(right=True)\n",
    "\n",
    "\n",
    "sns.distplot(equalRange_df['risk'], ax=axes[0], norm_hist = False , kde=False)\n",
    "sns.distplot(equalIndif_df['risk'], ax=axes[1], norm_hist = False, kde=False)\n",
    "axes[0].set_title('Equal Range')\n",
    "axes[1].set_title('Equal Indifference')\n",
    "plt.show()"
   ]
  },
  {
   "cell_type": "code",
   "execution_count": null,
   "metadata": {},
   "outputs": [],
   "source": [
    "sns.set(font_scale=1.8)\n",
    "\n",
    "f, axes = plt.subplots(2, 1, figsize=(7, 7), sharex=True)\n",
    "sns.despine(right=True)\n",
    "\n",
    "\n",
    "sns.distplot(equalRange_df['RT'], ax=axes[0])#, kde=False)\n",
    "sns.distplot(equalIndif_df['RT'], ax=axes[1])#, kde=False)\n",
    "plt.show()"
   ]
  },
  {
   "cell_type": "code",
   "execution_count": null,
   "metadata": {},
   "outputs": [],
   "source": [
    "fig, ax = plt.subplots(1, 1, figsize=(20,10))\n",
    "sns.despine(right=True)\n",
    "\n",
    "sns.violinplot(x=\"accept\", y=\"RT\", data=clean_ps_df, hue='group',\n",
    "               split=True, inner=\"quart\",\n",
    "               palette={\"equalRange\": \"y\", \"equalIndifference\": \"b\"}, ax=ax)\n",
    "plt.show()"
   ]
  },
  {
   "cell_type": "code",
   "execution_count": null,
   "metadata": {},
   "outputs": [],
   "source": [
    "fig, ax = plt.subplots(1, 1, figsize=(20,10))\n",
    "sns.despine(right=True)\n",
    "\n",
    "sns.violinplot(x=\"participant_response\", y=\"RT\", data=clean_ps_df, hue='group',\n",
    "               split=True, inner=\"quart\",\n",
    "               palette={\"equalRange\": \"y\", \"equalIndifference\": \"b\"}, ax=ax)\n",
    "plt.show()"
   ]
  },
  {
   "cell_type": "code",
   "execution_count": null,
   "metadata": {},
   "outputs": [],
   "source": [
    "sns.set(font_scale=1.8)\n",
    "sns.set_style('ticks')\n",
    "sns.countplot(x='accept', data=clean_ps_df)\n",
    "plt.show()"
   ]
  },
  {
   "cell_type": "code",
   "execution_count": null,
   "metadata": {},
   "outputs": [],
   "source": [
    "sns.set(font_scale=1.8)\n",
    "sns.set_style('ticks')\n",
    "sns.countplot(x='accept', data=equalRange_df)\n",
    "plt.show()"
   ]
  },
  {
   "cell_type": "code",
   "execution_count": null,
   "metadata": {},
   "outputs": [],
   "source": [
    "sns.set(font_scale=1.8)\n",
    "sns.set_style('ticks')\n",
    "sns.countplot(x='accept', data=equalIndif_df)\n",
    "plt.show()"
   ]
  },
  {
   "cell_type": "code",
   "execution_count": null,
   "metadata": {},
   "outputs": [],
   "source": [
    "sns.set(font_scale=1)\n",
    "sns.set_style('ticks')\n",
    "sns.countplot(x='participant_response', data=equalRange_df)\n",
    "plt.show()"
   ]
  },
  {
   "cell_type": "code",
   "execution_count": null,
   "metadata": {},
   "outputs": [],
   "source": [
    "sns.set(font_scale=1)\n",
    "sns.set_style('ticks')\n",
    "sns.countplot(x='participant_response', data=equalIndif_df)\n",
    "plt.show()"
   ]
  },
  {
   "cell_type": "code",
   "execution_count": null,
   "metadata": {},
   "outputs": [],
   "source": [
    "clean_ps_df.to_csv('./data/participants.csv', index=False)\n",
    "meta_df.to_csv('./data/file_details.csv', index=False)"
   ]
  },
  {
   "cell_type": "code",
   "execution_count": null,
   "metadata": {},
   "outputs": [],
   "source": [
    "participants_df"
   ]
  },
  {
   "cell_type": "code",
   "execution_count": null,
   "metadata": {},
   "outputs": [],
   "source": [
    "ps_df.head()"
   ]
  },
  {
   "cell_type": "code",
   "execution_count": null,
   "metadata": {},
   "outputs": [],
   "source": [
    "subject_13 = ps_df[ps_df['ID'] == 13]"
   ]
  },
  {
   "cell_type": "code",
   "execution_count": null,
   "metadata": {},
   "outputs": [],
   "source": [
    "subject_13['accept'].describe()"
   ]
  },
  {
   "cell_type": "code",
   "execution_count": null,
   "metadata": {},
   "outputs": [],
   "source": [
    "subject_13"
   ]
  },
  {
   "cell_type": "code",
   "execution_count": null,
   "metadata": {},
   "outputs": [],
   "source": [
    "group_assignments = ps_df.drop_duplicates(subset='ID')[['group', 'ID']]"
   ]
  },
  {
   "cell_type": "code",
   "execution_count": null,
   "metadata": {},
   "outputs": [],
   "source": [
    "def check_group(row):\n",
    "    one_group = []\n",
    "    other_group = []\n",
    "    if row['ID'] % 2:\n",
    "        if row['group'] == 'equalIndifference':\n",
    "            return True\n",
    "    else:\n",
    "        if row['group'] == 'equalRange':\n",
    "            return True\n",
    "    return False\n",
    "\n",
    "group_assignments['consistent'] = group_assignments.apply(check_group, axis=1)\n",
    "    "
   ]
  },
  {
   "cell_type": "code",
   "execution_count": null,
   "metadata": {},
   "outputs": [],
   "source": [
    "group_assignments.iloc[30:50]"
   ]
  },
  {
   "cell_type": "code",
   "execution_count": null,
   "metadata": {},
   "outputs": [],
   "source": [
    "group_assigments[group_assignments['consistent'] == False]"
   ]
  },
  {
   "cell_type": "code",
   "execution_count": null,
   "metadata": {},
   "outputs": [],
   "source": [
    "group_assignments[['consistent']] == False"
   ]
  },
  {
   "cell_type": "code",
   "execution_count": null,
   "metadata": {},
   "outputs": [],
   "source": [
    "subject_87 = ps_df[ps_df['ID'] == 87]"
   ]
  },
  {
   "cell_type": "code",
   "execution_count": null,
   "metadata": {
    "scrolled": false
   },
   "outputs": [],
   "source": [
    "subject_87"
   ]
  },
  {
   "cell_type": "code",
   "execution_count": null,
   "metadata": {},
   "outputs": [],
   "source": []
  }
 ],
 "metadata": {
  "kernelspec": {
   "display_name": "Python 3",
   "language": "python",
   "name": "python3"
  },
  "language_info": {
   "codemirror_mode": {
    "name": "ipython",
    "version": 3
   },
   "file_extension": ".py",
   "mimetype": "text/x-python",
   "name": "python",
   "nbconvert_exporter": "python",
   "pygments_lexer": "ipython3",
   "version": "3.7.3"
  }
 },
 "nbformat": 4,
 "nbformat_minor": 2
}
